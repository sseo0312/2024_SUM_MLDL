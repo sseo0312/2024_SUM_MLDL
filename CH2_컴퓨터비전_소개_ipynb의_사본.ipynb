{
  "nbformat": 4,
  "nbformat_minor": 0,
  "metadata": {
    "colab": {
      "provenance": [],
      "authorship_tag": "ABX9TyOgaGGt/RcPmPei/C3cMeXc",
      "include_colab_link": true
    },
    "kernelspec": {
      "name": "python3",
      "display_name": "Python 3"
    },
    "language_info": {
      "name": "python"
    }
  },
  "cells": [
    {
      "cell_type": "markdown",
      "metadata": {
        "id": "view-in-github",
        "colab_type": "text"
      },
      "source": [
        "<a href=\"https://colab.research.google.com/github/sseo0312/2024_SUM_MLDL/blob/main/CH2_%EC%BB%B4%ED%93%A8%ED%84%B0%EB%B9%84%EC%A0%84_%EC%86%8C%EA%B0%9C_ipynb%EC%9D%98_%EC%82%AC%EB%B3%B8.ipynb\" target=\"_parent\"><img src=\"https://colab.research.google.com/assets/colab-badge.svg\" alt=\"Open In Colab\"/></a>"
      ]
    },
    {
      "cell_type": "code",
      "source": [
        "import tensorflow as tf\n",
        "print(tf.__version__)"
      ],
      "metadata": {
        "colab": {
          "base_uri": "https://localhost:8080/"
        },
        "id": "nCSgdYpLtssO",
        "outputId": "182383f1-febd-4749-afc6-0b56d89a65e9"
      },
      "execution_count": 1,
      "outputs": [
        {
          "output_type": "stream",
          "name": "stdout",
          "text": [
            "2.15.0\n"
          ]
        }
      ]
    },
    {
      "cell_type": "code",
      "source": [
        "import numpy as np\n",
        "from tensorflow.keras import Sequential\n",
        "from tensorflow.keras.layers import Dense, Flatten"
      ],
      "metadata": {
        "id": "ocnhGmIituOM"
      },
      "execution_count": 2,
      "outputs": []
    },
    {
      "cell_type": "code",
      "source": [
        "data=tf.keras.datasets.fashion_mnist\n",
        "\n",
        "(training_images, training_lables), (test_images, test_lables) =data.load_data()\n",
        "\n",
        "training_images=training_images/255.0 #normalization\n",
        "test_images=test_images/255.0"
      ],
      "metadata": {
        "colab": {
          "base_uri": "https://localhost:8080/"
        },
        "id": "QBWuVBSzvrhs",
        "outputId": "1ee72b94-09c2-4444-da91-a9cfd969ced9"
      },
      "execution_count": 3,
      "outputs": [
        {
          "output_type": "stream",
          "name": "stdout",
          "text": [
            "Downloading data from https://storage.googleapis.com/tensorflow/tf-keras-datasets/train-labels-idx1-ubyte.gz\n",
            "29515/29515 [==============================] - 0s 0us/step\n",
            "Downloading data from https://storage.googleapis.com/tensorflow/tf-keras-datasets/train-images-idx3-ubyte.gz\n",
            "26421880/26421880 [==============================] - 0s 0us/step\n",
            "Downloading data from https://storage.googleapis.com/tensorflow/tf-keras-datasets/t10k-labels-idx1-ubyte.gz\n",
            "5148/5148 [==============================] - 0s 0us/step\n",
            "Downloading data from https://storage.googleapis.com/tensorflow/tf-keras-datasets/t10k-images-idx3-ubyte.gz\n",
            "4422102/4422102 [==============================] - 0s 0us/step\n"
          ]
        }
      ]
    },
    {
      "cell_type": "code",
      "source": [
        "model=Sequential([\n",
        "    Flatten(input_shape=(28,28)), #Flatten layer는 뉴런(weight와 bias)가 없고 입력 데이터 형태만 바꾸지만 관례상 layer라 부름. 하지만 입력층이라 부르진X. 28*28-> 784*1\n",
        "    Dense(128, activation=tf.nn.relu), #128개의 뉴런 지정. 은닉층 hidden layer로 입력과 출력 사이에 위치해 밖에서는 보이지X. 뉴런은 128개. 128개는 임의의 지정된 숫자\n",
        "    # 뉴런 수를 정하는 규칙은 따로 없지만, 많아지면 파라미터가 많아지므로 학습이 오래걸림(overfitting)\n",
        "    # 적으면? 파라미터 부족.\n",
        "    # 적절한 값을 택하는 과정이 하이퍼파라미터 튜닝!<- 훈련을 제어하는데 사용하는 값으로 모델 파라미터와는 다름.\n",
        "    Dense(10, activation=tf.nn.softmax) #활성화 함수. 이는 각 층의 뉴런에 적용되는 함수. RELU는 0보다 큰 값을 반환함.\n",
        "    # 마지막 Dense층. 출력층! 클래스가 10개이므로 10개의 뉴런을 둔다. softmax함수는 출력층의 뉴런에서 출력된 값의 합이 1이되도록한다.속할 확률 계산.\n",
        "])\n",
        "#1장에서는 하나의 layer만 포함시켰지만 여기서는 여러개의 layer를 정의."
      ],
      "metadata": {
        "id": "FrWxqWvutvCO"
      },
      "execution_count": 4,
      "outputs": []
    },
    {
      "cell_type": "code",
      "source": [
        "model.compile(optimizer='adam', loss='sparse_categorical_crossentropy', metrics=['accuracy'])"
      ],
      "metadata": {
        "id": "ef_B_ZNiwDGA"
      },
      "execution_count": 5,
      "outputs": []
    },
    {
      "cell_type": "code",
      "source": [
        "model.fit(training_images, training_lables, epochs=5)\n",
        "#training label과 test label을 이용해 5번 반복해 학습하라는 의미\n",
        "#반복횟수를 늘리면 overfitting가능성이 있음"
      ],
      "metadata": {
        "colab": {
          "base_uri": "https://localhost:8080/"
        },
        "id": "tjC4GSscwPfj",
        "outputId": "883dbfa6-54de-4973-d50b-80eac636df91"
      },
      "execution_count": 8,
      "outputs": [
        {
          "output_type": "stream",
          "name": "stdout",
          "text": [
            "Epoch 1/5\n",
            "1875/1875 [==============================] - 7s 3ms/step - loss: 0.4984 - accuracy: 0.8252\n",
            "Epoch 2/5\n",
            "1875/1875 [==============================] - 5s 3ms/step - loss: 0.3725 - accuracy: 0.8660\n",
            "Epoch 3/5\n",
            "1875/1875 [==============================] - 5s 3ms/step - loss: 0.3375 - accuracy: 0.8759\n",
            "Epoch 4/5\n",
            "1875/1875 [==============================] - 6s 3ms/step - loss: 0.3135 - accuracy: 0.8842\n",
            "Epoch 5/5\n",
            "1875/1875 [==============================] - 5s 3ms/step - loss: 0.2960 - accuracy: 0.8903\n"
          ]
        },
        {
          "output_type": "execute_result",
          "data": {
            "text/plain": [
              "<keras.src.callbacks.History at 0x7a35efe1bfd0>"
            ]
          },
          "metadata": {},
          "execution_count": 8
        }
      ]
    },
    {
      "cell_type": "code",
      "source": [
        "#test set에 대해 평가하기\n",
        "model.evaluate(test_images,test_lables)"
      ],
      "metadata": {
        "colab": {
          "base_uri": "https://localhost:8080/"
        },
        "id": "U7CbdeGHPtuA",
        "outputId": "3b85e8d6-5432-4382-9945-44b16cb01def"
      },
      "execution_count": 10,
      "outputs": [
        {
          "output_type": "stream",
          "name": "stdout",
          "text": [
            "313/313 [==============================] - 1s 2ms/step - loss: 0.3518 - accuracy: 0.8749\n"
          ]
        },
        {
          "output_type": "execute_result",
          "data": {
            "text/plain": [
              "[0.35184791684150696, 0.8748999834060669]"
            ]
          },
          "metadata": {},
          "execution_count": 10
        }
      ]
    },
    {
      "cell_type": "code",
      "source": [
        "classifications=model.predict(test_images)\n",
        "print(classifications[0]) #인덱스0에 있는 이미지가 각 클래스에 몇퍼센트 확률로 속하는지. 얘는 93%의 확률로 클래스 9에 속한다는 뜻.\n",
        "print(test_lables[0]) #실제 레이블 출력 (9)\n",
        "#정확하게 예측했구나를 알 수 있음"
      ],
      "metadata": {
        "colab": {
          "base_uri": "https://localhost:8080/"
        },
        "id": "wehkUTEpRU-q",
        "outputId": "4eee2c18-3306-4e9a-d41b-faef5060fd4c"
      },
      "execution_count": 11,
      "outputs": [
        {
          "output_type": "stream",
          "name": "stdout",
          "text": [
            "313/313 [==============================] - 1s 1ms/step\n",
            "[5.1405696e-06 1.4077599e-08 6.1850744e-07 3.0822640e-08 1.5568297e-06\n",
            " 3.9356489e-02 1.0071002e-06 2.7961217e-02 1.2124643e-05 9.3266171e-01]\n",
            "9\n"
          ]
        }
      ]
    },
    {
      "cell_type": "markdown",
      "source": [
        "# 훈련할 epoch횟수를 지정하는 것이 아니라 원하는 정확도에 도달하면 훈련을 멈추게 해보자(이게 더 좋은 방법) : callback"
      ],
      "metadata": {
        "id": "V-8mz5bDSNxe"
      }
    },
    {
      "cell_type": "code",
      "source": [
        "class myCallback(tf.keras.callbacks.Callback):\n",
        "  def on_epoch_end(self, epoch, logs={}):\n",
        "    if(logs.get('accuracy')>0.95):\n",
        "      print(\"\\n 정확도 95%에 도달해 훈련을 멈춥니다.\")\n",
        "      self.model.stop_training=True"
      ],
      "metadata": {
        "id": "eOHF_U_RSUGu"
      },
      "execution_count": 12,
      "outputs": []
    },
    {
      "cell_type": "code",
      "source": [
        "callbacks=myCallback()"
      ],
      "metadata": {
        "id": "285Qzx7XS-cC"
      },
      "execution_count": 13,
      "outputs": []
    },
    {
      "cell_type": "code",
      "source": [
        "mnist=tf.keras.datasets.fashion_mnist"
      ],
      "metadata": {
        "id": "31XnHOtCTDdq"
      },
      "execution_count": 14,
      "outputs": []
    },
    {
      "cell_type": "code",
      "source": [
        "(training_images, training_lables), (test_images, test_lables) =data.load_data()\n",
        "\n",
        "training_images=training_images/255.0 #normalization\n",
        "test_images=test_images/255.0"
      ],
      "metadata": {
        "id": "whoUd21ITIFn"
      },
      "execution_count": 15,
      "outputs": []
    },
    {
      "cell_type": "code",
      "source": [
        "model=Sequential([\n",
        "    Flatten(input_shape=(28,28)), #Flatten layer는 뉴런(weight와 bias)가 없고 입력 데이터 형태만 바꾸지만 관례상 layer라 부름. 하지만 입력층이라 부르진X. 28*28-> 784*1\n",
        "    Dense(128, activation=tf.nn.relu), #128개의 뉴런 지정. 은닉층 hidden layer로 입력과 출력 사이에 위치해 밖에서는 보이지X. 뉴런은 128개. 128개는 임의의 지정된 숫자\n",
        "    # 뉴런 수를 정하는 규칙은 따로 없지만, 많아지면 파라미터가 많아지므로 학습이 오래걸림(overfitting)\n",
        "    # 적으면? 파라미터 부족.\n",
        "    # 적절한 값을 택하는 과정이 하이퍼파라미터 튜닝!<- 훈련을 제어하는데 사용하는 값으로 모델 파라미터와는 다름.\n",
        "    Dense(10, activation=tf.nn.softmax) #활성화 함수. 이는 각 층의 뉴런에 적용되는 함수. RELU는 0보다 큰 값을 반환함.\n",
        "    # 마지막 Dense층. 출력층! 클래스가 10개이므로 10개의 뉴런을 둔다. softmax함수는 출력층의 뉴런에서 출력된 값의 합이 1이되도록한다.속할 확률 계산.\n",
        "])\n",
        "#1장에서는 하나의 layer만 포함시켰지만 여기서는 여러개의 layer를 정의"
      ],
      "metadata": {
        "id": "GrRTWAvgTMMh"
      },
      "execution_count": 16,
      "outputs": []
    },
    {
      "cell_type": "code",
      "source": [
        "model.compile(optimizer='adam', loss='sparse_categorical_crossentropy', metrics=['accuracy'])"
      ],
      "metadata": {
        "id": "T1JFy86RTTDm"
      },
      "execution_count": 17,
      "outputs": []
    },
    {
      "cell_type": "code",
      "source": [
        "model.fit(training_images, training_lables, epochs=50, callbacks=[callbacks])\n",
        "#training label과 test label을 이용해 5번 반복해 학습하라는 의미\n",
        "#반복횟수를 늘리면 overfitting가능성이 있음"
      ],
      "metadata": {
        "colab": {
          "base_uri": "https://localhost:8080/"
        },
        "id": "mLVQxgU2TU6_",
        "outputId": "8b465318-0bdb-4963-bc08-8d177407e4a4"
      },
      "execution_count": 18,
      "outputs": [
        {
          "output_type": "stream",
          "name": "stdout",
          "text": [
            "Epoch 1/50\n",
            "1875/1875 [==============================] - 5s 3ms/step - loss: 0.4951 - accuracy: 0.8237\n",
            "Epoch 2/50\n",
            "1875/1875 [==============================] - 6s 3ms/step - loss: 0.3731 - accuracy: 0.8657\n",
            "Epoch 3/50\n",
            "1875/1875 [==============================] - 6s 3ms/step - loss: 0.3358 - accuracy: 0.8777\n",
            "Epoch 4/50\n",
            "1875/1875 [==============================] - 5s 3ms/step - loss: 0.3101 - accuracy: 0.8856\n",
            "Epoch 5/50\n",
            "1875/1875 [==============================] - 7s 4ms/step - loss: 0.2930 - accuracy: 0.8913\n",
            "Epoch 6/50\n",
            "1875/1875 [==============================] - 5s 3ms/step - loss: 0.2766 - accuracy: 0.8982\n",
            "Epoch 7/50\n",
            "1875/1875 [==============================] - 6s 3ms/step - loss: 0.2666 - accuracy: 0.9001\n",
            "Epoch 8/50\n",
            "1875/1875 [==============================] - 5s 3ms/step - loss: 0.2542 - accuracy: 0.9047\n",
            "Epoch 9/50\n",
            "1875/1875 [==============================] - 5s 3ms/step - loss: 0.2460 - accuracy: 0.9074\n",
            "Epoch 10/50\n",
            "1875/1875 [==============================] - 6s 3ms/step - loss: 0.2345 - accuracy: 0.9115\n",
            "Epoch 11/50\n",
            "1875/1875 [==============================] - 5s 3ms/step - loss: 0.2265 - accuracy: 0.9162\n",
            "Epoch 12/50\n",
            "1875/1875 [==============================] - 6s 3ms/step - loss: 0.2209 - accuracy: 0.9171\n",
            "Epoch 13/50\n",
            "1875/1875 [==============================] - 5s 3ms/step - loss: 0.2126 - accuracy: 0.9198\n",
            "Epoch 14/50\n",
            "1875/1875 [==============================] - 6s 3ms/step - loss: 0.2067 - accuracy: 0.9218\n",
            "Epoch 15/50\n",
            "1875/1875 [==============================] - 5s 3ms/step - loss: 0.2017 - accuracy: 0.9246\n",
            "Epoch 16/50\n",
            "1875/1875 [==============================] - 7s 4ms/step - loss: 0.1947 - accuracy: 0.9269\n",
            "Epoch 17/50\n",
            "1875/1875 [==============================] - 6s 3ms/step - loss: 0.1913 - accuracy: 0.9283\n",
            "Epoch 18/50\n",
            "1875/1875 [==============================] - 5s 3ms/step - loss: 0.1844 - accuracy: 0.9304\n",
            "Epoch 19/50\n",
            "1875/1875 [==============================] - 6s 3ms/step - loss: 0.1810 - accuracy: 0.9313\n",
            "Epoch 20/50\n",
            "1875/1875 [==============================] - 5s 3ms/step - loss: 0.1741 - accuracy: 0.9349\n",
            "Epoch 21/50\n",
            "1875/1875 [==============================] - 6s 3ms/step - loss: 0.1712 - accuracy: 0.9357\n",
            "Epoch 22/50\n",
            "1875/1875 [==============================] - 5s 3ms/step - loss: 0.1692 - accuracy: 0.9362\n",
            "Epoch 23/50\n",
            "1875/1875 [==============================] - 5s 3ms/step - loss: 0.1622 - accuracy: 0.9390\n",
            "Epoch 24/50\n",
            "1875/1875 [==============================] - 6s 3ms/step - loss: 0.1593 - accuracy: 0.9404\n",
            "Epoch 25/50\n",
            "1875/1875 [==============================] - 5s 3ms/step - loss: 0.1567 - accuracy: 0.9405\n",
            "Epoch 26/50\n",
            "1875/1875 [==============================] - 6s 3ms/step - loss: 0.1521 - accuracy: 0.9426\n",
            "Epoch 27/50\n",
            "1875/1875 [==============================] - 5s 3ms/step - loss: 0.1484 - accuracy: 0.9441\n",
            "Epoch 28/50\n",
            "1875/1875 [==============================] - 6s 3ms/step - loss: 0.1441 - accuracy: 0.9457\n",
            "Epoch 29/50\n",
            "1875/1875 [==============================] - 6s 3ms/step - loss: 0.1439 - accuracy: 0.9457\n",
            "Epoch 30/50\n",
            "1875/1875 [==============================] - 5s 3ms/step - loss: 0.1389 - accuracy: 0.9481\n",
            "Epoch 31/50\n",
            "1875/1875 [==============================] - 6s 3ms/step - loss: 0.1366 - accuracy: 0.9485\n",
            "Epoch 32/50\n",
            "1875/1875 [==============================] - 5s 3ms/step - loss: 0.1342 - accuracy: 0.9499\n",
            "Epoch 33/50\n",
            "1875/1875 [==============================] - 6s 3ms/step - loss: 0.1342 - accuracy: 0.9500\n",
            "Epoch 34/50\n",
            "1864/1875 [============================>.] - ETA: 0s - loss: 0.1253 - accuracy: 0.9527\n",
            " 정확도 95%에 도달해 훈련을 멈춥니다.\n",
            "1875/1875 [==============================] - 5s 3ms/step - loss: 0.1255 - accuracy: 0.9527\n"
          ]
        },
        {
          "output_type": "execute_result",
          "data": {
            "text/plain": [
              "<keras.src.callbacks.History at 0x7a35c3fb48e0>"
            ]
          },
          "metadata": {},
          "execution_count": 18
        }
      ]
    }
  ]
}